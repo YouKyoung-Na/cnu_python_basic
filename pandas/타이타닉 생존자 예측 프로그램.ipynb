{
 "cells": [
  {
   "cell_type": "markdown",
   "id": "ee46782f",
   "metadata": {},
   "source": [
    "### 타이타닉 데이터를 활용한 이진 생존 분류\n",
    "- Download: https://www.kaggle.com/c/titanic"
   ]
  },
  {
   "cell_type": "markdown",
   "id": "6984a1e7",
   "metadata": {},
   "source": [
    "### 1. Data Description\n",
    "- total: 1309명\n",
    "- train.csv: 891x12\n",
    "- test.csv: 418x11\n",
    "\n",
    "- Survive: 0=No, 1=Yes\n",
    "- pclass: 1=1st, 2=2nd, 3=3rd(숫자가 낮을수록 높은 등급)\n",
    "- SibSP = Sibilings-Spouses\n",
    "- Parch = Parents-Children"
   ]
  },
  {
   "cell_type": "markdown",
   "id": "93e8295d",
   "metadata": {},
   "source": [
    "### pandas\n",
    "- pandas 처럼 2차원 공간에 온 것 = dataframe이라고 함\n",
    "- feature = 특징(열) = column\n",
    "- series = 특징 하나에 대한 data\n",
    "- table = 표\n",
    "- column = 세로(열)\n",
    "- row = 가로(행)"
   ]
  },
  {
   "cell_type": "markdown",
   "id": "f073d024",
   "metadata": {},
   "source": [
    "### 데이터(CSV,JSON)\n",
    "\n",
    "- Pandas: 데이터 전처리, 탐색+분석\n",
    "- Scikit-learn: 머신러닝 (KNN etc..)\n",
    "- Tensorflow, PyTorch: 딥러닝"
   ]
  },
  {
   "cell_type": "markdown",
   "id": "0353cdf4",
   "metadata": {},
   "source": [
    "### 2. Import Module"
   ]
  },
  {
   "cell_type": "code",
   "execution_count": 4,
   "id": "4526137a",
   "metadata": {},
   "outputs": [],
   "source": [
    "import pandas as pd  #데이터 전처리, 탐색, 분석\n",
    "import numpy as np  #수치해석\n",
    "import matplotlib.pyplot as plt  #그래프 그려주는 것"
   ]
  },
  {
   "cell_type": "markdown",
   "id": "ef576413",
   "metadata": {},
   "source": [
    "### 3. Data Load\n",
    "- 절대 경로 / 상대경로\n",
    "    - 웬만해선 상대경로 사용하기(다른 컴퓨터에서도 사용하기 위해)\n",
    "- .:현재  ..:뒤로가기(폴더 나옴)  /:들어가기(폴더 들어감)"
   ]
  },
  {
   "cell_type": "code",
   "execution_count": 9,
   "id": "c5294a89",
   "metadata": {},
   "outputs": [
    {
     "data": {
      "text/html": [
       "<div>\n",
       "<style scoped>\n",
       "    .dataframe tbody tr th:only-of-type {\n",
       "        vertical-align: middle;\n",
       "    }\n",
       "\n",
       "    .dataframe tbody tr th {\n",
       "        vertical-align: top;\n",
       "    }\n",
       "\n",
       "    .dataframe thead th {\n",
       "        text-align: right;\n",
       "    }\n",
       "</style>\n",
       "<table border=\"1\" class=\"dataframe\">\n",
       "  <thead>\n",
       "    <tr style=\"text-align: right;\">\n",
       "      <th></th>\n",
       "      <th>PassengerId</th>\n",
       "      <th>Survived</th>\n",
       "      <th>Pclass</th>\n",
       "      <th>Name</th>\n",
       "      <th>Sex</th>\n",
       "      <th>Age</th>\n",
       "      <th>SibSp</th>\n",
       "      <th>Parch</th>\n",
       "      <th>Ticket</th>\n",
       "      <th>Fare</th>\n",
       "      <th>Cabin</th>\n",
       "      <th>Embarked</th>\n",
       "    </tr>\n",
       "  </thead>\n",
       "  <tbody>\n",
       "    <tr>\n",
       "      <th>0</th>\n",
       "      <td>1</td>\n",
       "      <td>0</td>\n",
       "      <td>3</td>\n",
       "      <td>Braund, Mr. Owen Harris</td>\n",
       "      <td>male</td>\n",
       "      <td>22.0</td>\n",
       "      <td>1</td>\n",
       "      <td>0</td>\n",
       "      <td>A/5 21171</td>\n",
       "      <td>7.2500</td>\n",
       "      <td>NaN</td>\n",
       "      <td>S</td>\n",
       "    </tr>\n",
       "    <tr>\n",
       "      <th>1</th>\n",
       "      <td>2</td>\n",
       "      <td>1</td>\n",
       "      <td>1</td>\n",
       "      <td>Cumings, Mrs. John Bradley (Florence Briggs Th...</td>\n",
       "      <td>female</td>\n",
       "      <td>38.0</td>\n",
       "      <td>1</td>\n",
       "      <td>0</td>\n",
       "      <td>PC 17599</td>\n",
       "      <td>71.2833</td>\n",
       "      <td>C85</td>\n",
       "      <td>C</td>\n",
       "    </tr>\n",
       "    <tr>\n",
       "      <th>2</th>\n",
       "      <td>3</td>\n",
       "      <td>1</td>\n",
       "      <td>3</td>\n",
       "      <td>Heikkinen, Miss. Laina</td>\n",
       "      <td>female</td>\n",
       "      <td>26.0</td>\n",
       "      <td>0</td>\n",
       "      <td>0</td>\n",
       "      <td>STON/O2. 3101282</td>\n",
       "      <td>7.9250</td>\n",
       "      <td>NaN</td>\n",
       "      <td>S</td>\n",
       "    </tr>\n",
       "    <tr>\n",
       "      <th>3</th>\n",
       "      <td>4</td>\n",
       "      <td>1</td>\n",
       "      <td>1</td>\n",
       "      <td>Futrelle, Mrs. Jacques Heath (Lily May Peel)</td>\n",
       "      <td>female</td>\n",
       "      <td>35.0</td>\n",
       "      <td>1</td>\n",
       "      <td>0</td>\n",
       "      <td>113803</td>\n",
       "      <td>53.1000</td>\n",
       "      <td>C123</td>\n",
       "      <td>S</td>\n",
       "    </tr>\n",
       "    <tr>\n",
       "      <th>4</th>\n",
       "      <td>5</td>\n",
       "      <td>0</td>\n",
       "      <td>3</td>\n",
       "      <td>Allen, Mr. William Henry</td>\n",
       "      <td>male</td>\n",
       "      <td>35.0</td>\n",
       "      <td>0</td>\n",
       "      <td>0</td>\n",
       "      <td>373450</td>\n",
       "      <td>8.0500</td>\n",
       "      <td>NaN</td>\n",
       "      <td>S</td>\n",
       "    </tr>\n",
       "  </tbody>\n",
       "</table>\n",
       "</div>"
      ],
      "text/plain": [
       "   PassengerId  Survived  Pclass  \\\n",
       "0            1         0       3   \n",
       "1            2         1       1   \n",
       "2            3         1       3   \n",
       "3            4         1       1   \n",
       "4            5         0       3   \n",
       "\n",
       "                                                Name     Sex   Age  SibSp  \\\n",
       "0                            Braund, Mr. Owen Harris    male  22.0      1   \n",
       "1  Cumings, Mrs. John Bradley (Florence Briggs Th...  female  38.0      1   \n",
       "2                             Heikkinen, Miss. Laina  female  26.0      0   \n",
       "3       Futrelle, Mrs. Jacques Heath (Lily May Peel)  female  35.0      1   \n",
       "4                           Allen, Mr. William Henry    male  35.0      0   \n",
       "\n",
       "   Parch            Ticket     Fare Cabin Embarked  \n",
       "0      0         A/5 21171   7.2500   NaN        S  \n",
       "1      0          PC 17599  71.2833   C85        C  \n",
       "2      0  STON/O2. 3101282   7.9250   NaN        S  \n",
       "3      0            113803  53.1000  C123        S  \n",
       "4      0            373450   8.0500   NaN        S  "
      ]
     },
     "execution_count": 9,
     "metadata": {},
     "output_type": "execute_result"
    }
   ],
   "source": [
    "df_train = pd.read_csv('./dataset/train.csv')  #pd.read_csv() = pandas에 들어있는 csv파일을 알려주는 함수\n",
    "df_test = pd.read_csv('./dataset/test.csv')\n",
    "df_train.head()  #.head() = 처음부터 5건만 불러옴, .tail() = 끝에서부터 5건"
   ]
  },
  {
   "cell_type": "code",
   "execution_count": null,
   "id": "a74c6fba",
   "metadata": {},
   "outputs": [],
   "source": []
  },
  {
   "cell_type": "code",
   "execution_count": null,
   "id": "4af1e907",
   "metadata": {},
   "outputs": [],
   "source": []
  },
  {
   "cell_type": "code",
   "execution_count": null,
   "id": "d7a21dfe",
   "metadata": {},
   "outputs": [],
   "source": []
  },
  {
   "cell_type": "code",
   "execution_count": null,
   "id": "0f483779",
   "metadata": {},
   "outputs": [],
   "source": []
  },
  {
   "cell_type": "code",
   "execution_count": null,
   "id": "12b59eb1",
   "metadata": {},
   "outputs": [],
   "source": []
  },
  {
   "cell_type": "code",
   "execution_count": null,
   "id": "6480828d",
   "metadata": {},
   "outputs": [],
   "source": []
  }
 ],
 "metadata": {
  "kernelspec": {
   "display_name": "Python 3 (ipykernel)",
   "language": "python",
   "name": "python3"
  },
  "language_info": {
   "codemirror_mode": {
    "name": "ipython",
    "version": 3
   },
   "file_extension": ".py",
   "mimetype": "text/x-python",
   "name": "python",
   "nbconvert_exporter": "python",
   "pygments_lexer": "ipython3",
   "version": "3.9.7"
  }
 },
 "nbformat": 4,
 "nbformat_minor": 5
}
